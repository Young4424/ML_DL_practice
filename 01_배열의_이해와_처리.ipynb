{
  "cells": [
    {
      "cell_type": "markdown",
      "metadata": {
        "id": "view-in-github",
        "colab_type": "text"
      },
      "source": [
        "<a href=\"https://colab.research.google.com/github/Young4424/Machine-Learning-Deep-learning-Myself/blob/main/01_%EB%B0%B0%EC%97%B4%EC%9D%98_%EC%9D%B4%ED%95%B4%EC%99%80_%EC%B2%98%EB%A6%AC.ipynb\" target=\"_parent\"><img src=\"https://colab.research.google.com/assets/colab-badge.svg\" alt=\"Open In Colab\"/></a>"
      ]
    },
    {
      "cell_type": "code",
      "execution_count": null,
      "metadata": {
        "id": "de13sz9AErH9"
      },
      "outputs": [],
      "source": [
        "import numpy as np"
      ]
    },
    {
      "cell_type": "markdown",
      "metadata": {
        "id": "Sc50U4oKEsQj"
      },
      "source": [
        "# NumPy\n"
      ]
    },
    {
      "cell_type": "markdown",
      "metadata": {
        "id": "C9IATv7kHU0T"
      },
      "source": [
        "## 배열의 생성"
      ]
    },
    {
      "cell_type": "markdown",
      "metadata": {
        "id": "8qGbZegCE7EO"
      },
      "source": [
        "### 리스트로 배열 만들기"
      ]
    },
    {
      "cell_type": "code",
      "execution_count": null,
      "metadata": {
        "id": "JrtoVErIdSw4"
      },
      "outputs": [],
      "source": [
        "a = [1,2,3]\n",
        "b = [4,5,6]"
      ]
    },
    {
      "cell_type": "code",
      "source": [
        "a + b # 리스트 연산"
      ],
      "metadata": {
        "id": "EbgBhM99ejaL",
        "outputId": "32049cf3-9191-43c0-c78a-c17a0932cef1",
        "colab": {
          "base_uri": "https://localhost:8080/"
        }
      },
      "execution_count": null,
      "outputs": [
        {
          "output_type": "execute_result",
          "data": {
            "text/plain": [
              "[1, 2, 3, 4, 5, 6]"
            ]
          },
          "metadata": {},
          "execution_count": 4
        }
      ]
    },
    {
      "cell_type": "code",
      "source": [
        "array_a = np.array(a) # 배열로 변환\n",
        "array_b = np.array(b)"
      ],
      "metadata": {
        "id": "xHFNVGS-e31K"
      },
      "execution_count": null,
      "outputs": []
    },
    {
      "cell_type": "code",
      "source": [
        "array_a + array_b # 배열 연산"
      ],
      "metadata": {
        "id": "gvhG_6IAfGT7",
        "outputId": "631bc4cd-e3b9-4764-9938-87a00d3bb14c",
        "colab": {
          "base_uri": "https://localhost:8080/"
        }
      },
      "execution_count": null,
      "outputs": [
        {
          "output_type": "execute_result",
          "data": {
            "text/plain": [
              "array([5, 7, 9])"
            ]
          },
          "metadata": {},
          "execution_count": 6
        }
      ]
    },
    {
      "cell_type": "code",
      "source": [
        "a2 = [[1,2,3],\n",
        "      [4,5,6],\n",
        "      [7,8,9]]  # 2차원 배열\n",
        "\n",
        "array_a2 = np.array(a2)\n"
      ],
      "metadata": {
        "id": "Dq3Zp_U4fVCj"
      },
      "execution_count": null,
      "outputs": []
    },
    {
      "cell_type": "code",
      "source": [
        "array_a2 + array_a2"
      ],
      "metadata": {
        "id": "S6mqQP_MfVni",
        "outputId": "3b67c3d4-6c7f-4075-f892-8a5541ba7194",
        "colab": {
          "base_uri": "https://localhost:8080/"
        }
      },
      "execution_count": null,
      "outputs": [
        {
          "output_type": "execute_result",
          "data": {
            "text/plain": [
              "array([[ 2,  4,  6],\n",
              "       [ 8, 10, 12],\n",
              "       [14, 16, 18]])"
            ]
          },
          "metadata": {},
          "execution_count": 9
        }
      ]
    },
    {
      "cell_type": "code",
      "source": [
        "a3 = [[[1,2,3],\n",
        "      [4,5,6],\n",
        "      [7,8,9]],\n",
        "\n",
        "      [[1,2,3],\n",
        "      [4,5,6],\n",
        "      [7,8,9]],\n",
        "\n",
        "      [[1,2,3],\n",
        "      [4,5,6],\n",
        "      [7,8,9]]]    # 3차원 배열 (2차원 배열 3장)\n",
        "\n",
        "\n",
        "# ex) RGB 컬러 이미지, 3개의 채널\n",
        "\n",
        "array_a3 = np.array(a3)"
      ],
      "metadata": {
        "id": "YgMhzg2mfV27"
      },
      "execution_count": null,
      "outputs": []
    },
    {
      "cell_type": "code",
      "source": [
        "array_a3 + array_a3"
      ],
      "metadata": {
        "id": "U-IPv695gKJb",
        "outputId": "9678d8ac-ec35-44fc-b62e-eeb77f3d32b0",
        "colab": {
          "base_uri": "https://localhost:8080/"
        }
      },
      "execution_count": null,
      "outputs": [
        {
          "output_type": "execute_result",
          "data": {
            "text/plain": [
              "array([[[ 2,  4,  6],\n",
              "        [ 8, 10, 12],\n",
              "        [14, 16, 18]],\n",
              "\n",
              "       [[ 2,  4,  6],\n",
              "        [ 8, 10, 12],\n",
              "        [14, 16, 18]],\n",
              "\n",
              "       [[ 2,  4,  6],\n",
              "        [ 8, 10, 12],\n",
              "        [14, 16, 18]]])"
            ]
          },
          "metadata": {},
          "execution_count": 11
        }
      ]
    },
    {
      "cell_type": "markdown",
      "metadata": {
        "id": "EzEH6P8EFc-N"
      },
      "source": [
        "### 배열 생성 및 초기화"
      ]
    },
    {
      "cell_type": "code",
      "execution_count": null,
      "metadata": {
        "id": "gpFBo9VUdSw5",
        "outputId": "ff7377a8-361d-4fcd-f75b-34cef8b0b32e",
        "colab": {
          "base_uri": "https://localhost:8080/"
        }
      },
      "outputs": [
        {
          "output_type": "execute_result",
          "data": {
            "text/plain": [
              "array([0., 0., 0., 0., 0., 0., 0., 0., 0., 0.])"
            ]
          },
          "metadata": {},
          "execution_count": 12
        }
      ],
      "source": [
        "np.zeros(10) # 0이 10개 들어간 배열 생성, 1차원"
      ]
    },
    {
      "cell_type": "code",
      "source": [
        "np.ones((3,3)) # (행 3, 열 3), 1로 채워진 배열 생성, 2차원"
      ],
      "metadata": {
        "id": "1SrIWh4Sg5da",
        "outputId": "c078b174-c41e-4401-f54d-e511699a7103",
        "colab": {
          "base_uri": "https://localhost:8080/"
        }
      },
      "execution_count": null,
      "outputs": [
        {
          "output_type": "execute_result",
          "data": {
            "text/plain": [
              "array([[1., 1., 1.],\n",
              "       [1., 1., 1.],\n",
              "       [1., 1., 1.]])"
            ]
          },
          "metadata": {},
          "execution_count": 13
        }
      ]
    },
    {
      "cell_type": "code",
      "source": [
        "np.full((3,3),5) # 3*3 배열, 5로 채우기"
      ],
      "metadata": {
        "id": "mqc2RQcVg5uC",
        "outputId": "85f5db6e-819c-4d35-b82c-3cc62754bd6b",
        "colab": {
          "base_uri": "https://localhost:8080/"
        }
      },
      "execution_count": null,
      "outputs": [
        {
          "output_type": "execute_result",
          "data": {
            "text/plain": [
              "array([[5, 5, 5],\n",
              "       [5, 5, 5],\n",
              "       [5, 5, 5]])"
            ]
          },
          "metadata": {},
          "execution_count": 14
        }
      ]
    },
    {
      "cell_type": "code",
      "source": [
        "np.arange(0,10) # 범위를 주면 숫자를 하나씩 증가해서 만들어줌"
      ],
      "metadata": {
        "id": "2hdCf7b5g6Ai",
        "outputId": "ad0b6237-8d60-4de4-86cd-68ab8ddcfc32",
        "colab": {
          "base_uri": "https://localhost:8080/"
        }
      },
      "execution_count": null,
      "outputs": [
        {
          "output_type": "execute_result",
          "data": {
            "text/plain": [
              "array([0, 1, 2, 3, 4, 5, 6, 7, 8, 9])"
            ]
          },
          "metadata": {},
          "execution_count": 15
        }
      ]
    },
    {
      "cell_type": "markdown",
      "metadata": {
        "id": "MwLMaU08GNvI"
      },
      "source": [
        "- `_like()` : 지정된 배열과 모양이 같은 행렬을 생성"
      ]
    },
    {
      "cell_type": "code",
      "execution_count": null,
      "metadata": {
        "id": "MnMCjSFLdSw5",
        "outputId": "5fa12b6f-a64e-432b-ac30-a1b1afd0a046",
        "colab": {
          "base_uri": "https://localhost:8080/"
        }
      },
      "outputs": [
        {
          "output_type": "execute_result",
          "data": {
            "text/plain": [
              "array([[[0, 0, 0],\n",
              "        [0, 0, 0],\n",
              "        [0, 0, 0]],\n",
              "\n",
              "       [[0, 0, 0],\n",
              "        [0, 0, 0],\n",
              "        [0, 0, 0]],\n",
              "\n",
              "       [[0, 0, 0],\n",
              "        [0, 0, 0],\n",
              "        [0, 0, 0]]])"
            ]
          },
          "metadata": {},
          "execution_count": 16
        }
      ],
      "source": [
        "np.zeros_like(array_a3) # 3차원 (array_a3)로 따라 만들어줌"
      ]
    },
    {
      "cell_type": "markdown",
      "metadata": {
        "id": "ezInk9hiGhQC"
      },
      "source": [
        "### 지정된 값으로 배열 생성"
      ]
    },
    {
      "cell_type": "code",
      "execution_count": null,
      "metadata": {
        "id": "ydw7CK7edSw6"
      },
      "outputs": [],
      "source": []
    },
    {
      "cell_type": "markdown",
      "metadata": {
        "id": "8UnCm5BmGwVi"
      },
      "source": [
        "### 랜덤한 값의 배열 생성"
      ]
    },
    {
      "cell_type": "code",
      "execution_count": null,
      "metadata": {
        "id": "JXKV8N_JdSw6",
        "outputId": "66654982-599a-42e7-eeee-6378d40b21e2",
        "colab": {
          "base_uri": "https://localhost:8080/"
        }
      },
      "outputs": [
        {
          "output_type": "execute_result",
          "data": {
            "text/plain": [
              "array([[0.3728793 , 0.40195195, 0.53762341],\n",
              "       [0.35183114, 0.74024256, 0.50679481],\n",
              "       [0.6874009 , 0.94480341, 0.302413  ]])"
            ]
          },
          "metadata": {},
          "execution_count": 17
        }
      ],
      "source": [
        "np.random.random((3,3)) # 3*3 모양으로 랜덤하게 뽑아준다."
      ]
    },
    {
      "cell_type": "markdown",
      "metadata": {
        "id": "-nFeBEw6HZQ6"
      },
      "source": [
        "## 배열의 타입"
      ]
    },
    {
      "cell_type": "markdown",
      "metadata": {
        "id": "-tt3l-QRHaIc"
      },
      "source": [
        "|Type|Description|\n",
        "|----|----|\n",
        "|`bool_`|바이트로 저장된 불리언(Boolean)으로 True 또는 False값을 가짐|\n",
        "|`int_`|기본 정수(Integer) 타입|\n",
        "|`int8`|8바이트(Byte) 표현가능한 Integer(-128 to 127)|\n",
        "|`int16`|16바이트(Byte) 표현가능한 Integer(32768 to 32767)|\n",
        "|`int32`|32바이트(Byte) 표현가능한 Integer(-2147483648 to 2147483647)|\n",
        "|`int64`|64바이트(Byte) 표현가능한 Integer(-9223372036854775808 to 9223372036854775807)|\n",
        "|`uint8`|부호 없는 정수(0 ~ 255)|\n",
        "|`uint16`|부호 없는 정수(0 ~ 65535)|\n",
        "|`uint32`|부호 없는 정수(0 ~ 4294967295)|\n",
        "|`uint64`|부호 없는 정수(0 ~ 18446744073709551615)|\n",
        "|`float8`|반정밀 부동 소수점(Half precision float): 부호 비트, 5비트 지수, 10비트 가수|\n",
        "|`float16`|단정밀 부동 소수점(Single precision float): 부호 비트, 8비트 지수, 23비트 가수|\n",
        "|`float32`|배정밀 부동 소수점(Double precision float): 부호 비트, 11비트 지수, 52비트 가수|\n",
        "|`float_`|`float64`를 줄여서 표현|\n",
        "|`complex64`|복소수(Complex number), 두 개의 32비트 부동 소수점으로 표현|\n",
        "|`complex128`|복소수, 두 개의 64비트 부동 소수점으로 표현|\n",
        "|`complex_`|`complex128`를 줄여서 표현|"
      ]
    },
    {
      "cell_type": "code",
      "execution_count": null,
      "metadata": {
        "id": "qOQrObAddSw6"
      },
      "outputs": [],
      "source": []
    },
    {
      "cell_type": "markdown",
      "metadata": {
        "id": "7BUKF27mMSmX"
      },
      "source": [
        "## 배열의 조회"
      ]
    },
    {
      "cell_type": "markdown",
      "metadata": {
        "id": "TDGV5j9_Mfnw"
      },
      "source": [
        "### 배열 속성 정보확인"
      ]
    },
    {
      "cell_type": "code",
      "execution_count": null,
      "metadata": {
        "id": "ZWbuakT2dSw6",
        "outputId": "4a925974-1871-4ae3-98d7-650d44c98d00",
        "colab": {
          "base_uri": "https://localhost:8080/"
        }
      },
      "outputs": [
        {
          "output_type": "execute_result",
          "data": {
            "text/plain": [
              "(3, 3, 3)"
            ]
          },
          "metadata": {},
          "execution_count": 18
        }
      ],
      "source": [
        "array_a3.shape # 3차원(3장), 3*3"
      ]
    },
    {
      "cell_type": "markdown",
      "metadata": {
        "id": "5-DLhzssNKdW"
      },
      "source": [
        "### 인덱싱(Indexing)"
      ]
    },
    {
      "cell_type": "code",
      "execution_count": null,
      "metadata": {
        "id": "0R4Ap0TmdSw6",
        "outputId": "3146b74a-8430-4502-b8a6-1dfdd3964ca6",
        "colab": {
          "base_uri": "https://localhost:8080/"
        }
      },
      "outputs": [
        {
          "output_type": "execute_result",
          "data": {
            "text/plain": [
              "27"
            ]
          },
          "metadata": {},
          "execution_count": 20
        }
      ],
      "source": [
        "array_a3.size # 배열 안의 요소가 몇개 있나"
      ]
    },
    {
      "cell_type": "code",
      "source": [
        "array_a3.dtype # 배열의 타입"
      ],
      "metadata": {
        "id": "ApO5WLYJlcUs",
        "outputId": "44e66711-205d-4bac-fa4d-7e96b3e089dd",
        "colab": {
          "base_uri": "https://localhost:8080/"
        }
      },
      "execution_count": null,
      "outputs": [
        {
          "output_type": "execute_result",
          "data": {
            "text/plain": [
              "dtype('int64')"
            ]
          },
          "metadata": {},
          "execution_count": 21
        }
      ]
    },
    {
      "cell_type": "markdown",
      "metadata": {
        "id": "-rwlMRRlNPSw"
      },
      "source": [
        "### 슬라이싱(Slicing)"
      ]
    },
    {
      "cell_type": "code",
      "execution_count": null,
      "metadata": {
        "id": "ngC6FC1DdSw7",
        "outputId": "a6a584bd-5c30-4b57-8176-ad5b148da52c",
        "colab": {
          "base_uri": "https://localhost:8080/"
        }
      },
      "outputs": [
        {
          "output_type": "execute_result",
          "data": {
            "text/plain": [
              "array([[1, 2, 3],\n",
              "       [4, 5, 6],\n",
              "       [7, 8, 9]])"
            ]
          },
          "metadata": {},
          "execution_count": 22
        }
      ],
      "source": [
        "array_a3[0] # 1번째 차원이 나옴"
      ]
    },
    {
      "cell_type": "code",
      "source": [
        "array_a3[0][0] # 1번째 차원의 첫번째 행"
      ],
      "metadata": {
        "id": "y4-q6V10luTL",
        "outputId": "49997900-7b53-455f-ca0e-5c1c3cabc883",
        "colab": {
          "base_uri": "https://localhost:8080/"
        }
      },
      "execution_count": null,
      "outputs": [
        {
          "output_type": "execute_result",
          "data": {
            "text/plain": [
              "array([1, 2, 3])"
            ]
          },
          "metadata": {},
          "execution_count": 24
        }
      ]
    },
    {
      "cell_type": "code",
      "source": [
        "array_a3[:2] # 두 번째 차원까지 슬라이싱, [:2] 는 포함 x"
      ],
      "metadata": {
        "id": "QxjW9-kCl5Ss",
        "outputId": "261218f8-985f-4668-e681-ae2eadbc4263",
        "colab": {
          "base_uri": "https://localhost:8080/"
        }
      },
      "execution_count": null,
      "outputs": [
        {
          "output_type": "execute_result",
          "data": {
            "text/plain": [
              "array([[[1, 2, 3],\n",
              "        [4, 5, 6],\n",
              "        [7, 8, 9]],\n",
              "\n",
              "       [[1, 2, 3],\n",
              "        [4, 5, 6],\n",
              "        [7, 8, 9]]])"
            ]
          },
          "metadata": {},
          "execution_count": 25
        }
      ]
    },
    {
      "cell_type": "code",
      "source": [
        "array_a3[:2, :2] # 두 번째 차원까지 슬라이싱, 각 차원마다 두번째 행 까지 슬라이싱"
      ],
      "metadata": {
        "id": "eEXocFOel5os",
        "outputId": "bd4fba91-58be-42b2-f4bb-fffc41bec6a2",
        "colab": {
          "base_uri": "https://localhost:8080/"
        }
      },
      "execution_count": null,
      "outputs": [
        {
          "output_type": "execute_result",
          "data": {
            "text/plain": [
              "array([[[1, 2, 3],\n",
              "        [4, 5, 6]],\n",
              "\n",
              "       [[1, 2, 3],\n",
              "        [4, 5, 6]]])"
            ]
          },
          "metadata": {},
          "execution_count": 26
        }
      ]
    },
    {
      "cell_type": "code",
      "source": [
        "array_a3[:2, :2, -1] # 두 번째 차원까지 슬라이싱, 각 차원마다 두번째 행 까지 슬라이싱, 마지막 열까지 슬라이싱"
      ],
      "metadata": {
        "id": "Y3-iAcUml56y",
        "outputId": "2665a21b-e8ac-4a83-af32-3aa639d8f535",
        "colab": {
          "base_uri": "https://localhost:8080/"
        }
      },
      "execution_count": null,
      "outputs": [
        {
          "output_type": "execute_result",
          "data": {
            "text/plain": [
              "array([[3, 6],\n",
              "       [3, 6]])"
            ]
          },
          "metadata": {},
          "execution_count": 27
        }
      ]
    },
    {
      "cell_type": "code",
      "source": [
        "array_a2[:2, 1:3]"
      ],
      "metadata": {
        "id": "mrQRnabUmiHk",
        "outputId": "8e40e029-080b-45b2-aadc-42b00d1b33db",
        "colab": {
          "base_uri": "https://localhost:8080/"
        }
      },
      "execution_count": null,
      "outputs": [
        {
          "output_type": "execute_result",
          "data": {
            "text/plain": [
              "array([[2, 3],\n",
              "       [5, 6]])"
            ]
          },
          "metadata": {},
          "execution_count": 33
        }
      ]
    },
    {
      "cell_type": "code",
      "source": [
        "array_a3[0,:,0] # 차원(1장), 행(전체 선택), 첫번째 열"
      ],
      "metadata": {
        "id": "M3020JgqmiY0",
        "outputId": "d6422cb8-99cf-4eac-ccde-3456ebb41069",
        "colab": {
          "base_uri": "https://localhost:8080/"
        }
      },
      "execution_count": null,
      "outputs": [
        {
          "output_type": "execute_result",
          "data": {
            "text/plain": [
              "array([1, 4, 7])"
            ]
          },
          "metadata": {},
          "execution_count": 37
        }
      ]
    },
    {
      "cell_type": "code",
      "source": [
        "array_a3[:2, 1: ,1:] # 차원(2장), 행(2,3번째), 열(2,3번째)"
      ],
      "metadata": {
        "id": "Zj_V9Djxmit8",
        "outputId": "edb32a7e-2dc1-4743-e5c0-c6804dddbbde",
        "colab": {
          "base_uri": "https://localhost:8080/"
        }
      },
      "execution_count": null,
      "outputs": [
        {
          "output_type": "execute_result",
          "data": {
            "text/plain": [
              "array([[[5, 6],\n",
              "        [8, 9]],\n",
              "\n",
              "       [[5, 6],\n",
              "        [8, 9]]])"
            ]
          },
          "metadata": {},
          "execution_count": 40
        }
      ]
    },
    {
      "cell_type": "markdown",
      "metadata": {
        "id": "F5O2RzhmOfac"
      },
      "source": [
        "### 불리언 인덱싱(Boolean Indexing)"
      ]
    },
    {
      "cell_type": "code",
      "execution_count": null,
      "metadata": {
        "id": "FHNe2Q0RdSw7",
        "outputId": "0c3632c6-ead2-475b-b309-043352da3a05",
        "colab": {
          "base_uri": "https://localhost:8080/"
        }
      },
      "outputs": [
        {
          "output_type": "execute_result",
          "data": {
            "text/plain": [
              "array([1, 2, 3])"
            ]
          },
          "metadata": {},
          "execution_count": 41
        }
      ],
      "source": [
        "# 마스크를 씌운다.\n",
        "\n",
        "array_a"
      ]
    },
    {
      "cell_type": "code",
      "source": [
        "array_a[[False,True,False]] # 2를 선택"
      ],
      "metadata": {
        "id": "ZG5rodLiojt7",
        "outputId": "88d38017-ce6d-4c8f-ca96-7654b7fd3dc6",
        "colab": {
          "base_uri": "https://localhost:8080/"
        }
      },
      "execution_count": null,
      "outputs": [
        {
          "output_type": "execute_result",
          "data": {
            "text/plain": [
              "array([2])"
            ]
          },
          "metadata": {},
          "execution_count": 43
        }
      ]
    },
    {
      "cell_type": "code",
      "source": [
        "array_a2"
      ],
      "metadata": {
        "id": "P53zloTnokC8",
        "outputId": "62fa6f3f-f2a6-4c5a-c374-ca15b9d1ee2b",
        "colab": {
          "base_uri": "https://localhost:8080/"
        }
      },
      "execution_count": null,
      "outputs": [
        {
          "output_type": "execute_result",
          "data": {
            "text/plain": [
              "array([[1, 2, 3],\n",
              "       [4, 5, 6],\n",
              "       [7, 8, 9]])"
            ]
          },
          "metadata": {},
          "execution_count": 44
        }
      ]
    },
    {
      "cell_type": "code",
      "source": [
        "bool_mask = np.array([[True, False,False],\n",
        "             [False,True,False],\n",
        "             [False,False,True]])"
      ],
      "metadata": {
        "id": "14-znFlfokPs"
      },
      "execution_count": null,
      "outputs": []
    },
    {
      "cell_type": "code",
      "source": [
        "array_a2[bool_mask] # True 위치에 있는 값만 불러온다."
      ],
      "metadata": {
        "id": "KrgKQVYTokcz",
        "outputId": "1ba8bc89-3706-4b9b-eed7-7113c790a3f6",
        "colab": {
          "base_uri": "https://localhost:8080/"
        }
      },
      "execution_count": null,
      "outputs": [
        {
          "output_type": "execute_result",
          "data": {
            "text/plain": [
              "array([1, 5, 9])"
            ]
          },
          "metadata": {},
          "execution_count": 51
        }
      ]
    },
    {
      "cell_type": "code",
      "source": [
        "np.eye(3,dtype = bool) # 항등행렬, identity matrix"
      ],
      "metadata": {
        "id": "RkvEPkslouc0",
        "outputId": "7ade7d3f-4fc9-4667-bf3b-818a80a7a7ce",
        "colab": {
          "base_uri": "https://localhost:8080/"
        }
      },
      "execution_count": null,
      "outputs": [
        {
          "output_type": "execute_result",
          "data": {
            "text/plain": [
              "array([[ True, False, False],\n",
              "       [False,  True, False],\n",
              "       [False, False,  True]])"
            ]
          },
          "metadata": {},
          "execution_count": 53
        }
      ]
    },
    {
      "cell_type": "code",
      "source": [
        "array_a2[np.eye(3,dtype = bool)]"
      ],
      "metadata": {
        "id": "hF5VSAgMouqb",
        "outputId": "68cb074e-5f20-4995-b36f-8d07303e86bd",
        "colab": {
          "base_uri": "https://localhost:8080/"
        }
      },
      "execution_count": null,
      "outputs": [
        {
          "output_type": "execute_result",
          "data": {
            "text/plain": [
              "array([1, 5, 9])"
            ]
          },
          "metadata": {},
          "execution_count": 54
        }
      ]
    },
    {
      "cell_type": "code",
      "source": [
        "np.tri(3, dtype = bool) # 대각 성분 만들기"
      ],
      "metadata": {
        "id": "wWpNQO2ZqAVE",
        "outputId": "2cceec4e-1811-4c2a-a959-9a83ca92080b",
        "colab": {
          "base_uri": "https://localhost:8080/"
        }
      },
      "execution_count": null,
      "outputs": [
        {
          "output_type": "execute_result",
          "data": {
            "text/plain": [
              "array([[ True, False, False],\n",
              "       [ True,  True, False],\n",
              "       [ True,  True,  True]])"
            ]
          },
          "metadata": {},
          "execution_count": 57
        }
      ]
    },
    {
      "cell_type": "code",
      "source": [
        "array_a2[np.tri(3, dtype = bool)]"
      ],
      "metadata": {
        "id": "yCIhBOppplC8",
        "outputId": "14a5771b-d74b-4eab-c88d-91dc9f9962d4",
        "colab": {
          "base_uri": "https://localhost:8080/"
        }
      },
      "execution_count": null,
      "outputs": [
        {
          "output_type": "execute_result",
          "data": {
            "text/plain": [
              "array([1, 4, 5, 7, 8, 9])"
            ]
          },
          "metadata": {},
          "execution_count": 58
        }
      ]
    },
    {
      "cell_type": "markdown",
      "metadata": {
        "id": "1iCQHSFqPYIe"
      },
      "source": [
        "### 팬시 인덱싱(Fancy Indexing)"
      ]
    },
    {
      "cell_type": "code",
      "execution_count": null,
      "metadata": {
        "id": "rwSwHUtzdSw7",
        "outputId": "fef55898-ca99-4aff-8688-b011d7c289ad",
        "colab": {
          "base_uri": "https://localhost:8080/"
        }
      },
      "outputs": [
        {
          "output_type": "execute_result",
          "data": {
            "text/plain": [
              "array([1, 6, 7])"
            ]
          },
          "metadata": {},
          "execution_count": 59
        }
      ],
      "source": [
        "array_a2[[0,1,2],[0,2,0]] # [행 기준, 열 기준]"
      ]
    },
    {
      "cell_type": "code",
      "source": [
        "array_a3[[0,1,2],[0,1,2],[0,1,2]]"
      ],
      "metadata": {
        "id": "DqTAvvQ5qN7s",
        "outputId": "1b551dc9-4dfc-453a-8276-5ad19c85ed15",
        "colab": {
          "base_uri": "https://localhost:8080/"
        }
      },
      "execution_count": null,
      "outputs": [
        {
          "output_type": "execute_result",
          "data": {
            "text/plain": [
              "array([1, 5, 9])"
            ]
          },
          "metadata": {},
          "execution_count": 63
        }
      ]
    },
    {
      "cell_type": "markdown",
      "metadata": {
        "id": "mwzCnf6u5eCj"
      },
      "source": [
        "## 배열의 변환"
      ]
    },
    {
      "cell_type": "markdown",
      "metadata": {
        "id": "ubvDQoQo6ltw"
      },
      "source": [
        "### 배열 전치"
      ]
    },
    {
      "cell_type": "code",
      "execution_count": null,
      "metadata": {
        "id": "Cl5bpO7OdSw7",
        "outputId": "ef82b497-a8fb-4ce9-87a7-4b08f4206e8b",
        "colab": {
          "base_uri": "https://localhost:8080/"
        }
      },
      "outputs": [
        {
          "output_type": "execute_result",
          "data": {
            "text/plain": [
              "array([[1, 4, 7],\n",
              "       [2, 5, 8],\n",
              "       [3, 6, 9]])"
            ]
          },
          "metadata": {},
          "execution_count": 64
        }
      ],
      "source": [
        "array_a2.T # 전치"
      ]
    },
    {
      "cell_type": "markdown",
      "metadata": {
        "id": "6wwIxEVP6oq1"
      },
      "source": [
        "### 배열 재구조화"
      ]
    },
    {
      "cell_type": "code",
      "execution_count": null,
      "metadata": {
        "id": "x_q-DdcmdSw7",
        "outputId": "58f354a6-21f3-4bdb-ab0c-3d6b8242dcf1",
        "colab": {
          "base_uri": "https://localhost:8080/"
        }
      },
      "outputs": [
        {
          "output_type": "execute_result",
          "data": {
            "text/plain": [
              "array([[1, 2, 3],\n",
              "       [4, 5, 6],\n",
              "       [7, 8, 9]])"
            ]
          },
          "metadata": {},
          "execution_count": 66
        }
      ],
      "source": [
        "np.arange(1,10).reshape(3,3) # 3*3으로 모양 변경"
      ]
    },
    {
      "cell_type": "code",
      "source": [
        "np.arange(1,28).reshape(3,3,3) # 3*3 으로 3차원으로 변형"
      ],
      "metadata": {
        "id": "lgadinuErc-t",
        "outputId": "e84c8de5-a93c-4c69-8639-7c9af3f3e790",
        "colab": {
          "base_uri": "https://localhost:8080/"
        }
      },
      "execution_count": null,
      "outputs": [
        {
          "output_type": "execute_result",
          "data": {
            "text/plain": [
              "array([[[ 1,  2,  3],\n",
              "        [ 4,  5,  6],\n",
              "        [ 7,  8,  9]],\n",
              "\n",
              "       [[10, 11, 12],\n",
              "        [13, 14, 15],\n",
              "        [16, 17, 18]],\n",
              "\n",
              "       [[19, 20, 21],\n",
              "        [22, 23, 24],\n",
              "        [25, 26, 27]]])"
            ]
          },
          "metadata": {},
          "execution_count": 68
        }
      ]
    },
    {
      "cell_type": "code",
      "source": [
        "np.arange(1,10).resize((4,4), refcheck = False) # 나머지 비는 것을"
      ],
      "metadata": {
        "id": "eNpOPCMxrdLe"
      },
      "execution_count": null,
      "outputs": []
    },
    {
      "cell_type": "markdown",
      "metadata": {
        "id": "1-sJlGrA6vMT"
      },
      "source": [
        "### 배열 크기 변경"
      ]
    },
    {
      "cell_type": "code",
      "source": [
        "array_a1 = np.arange(1,10)"
      ],
      "metadata": {
        "id": "IIRwul7ssGft"
      },
      "execution_count": null,
      "outputs": []
    },
    {
      "cell_type": "code",
      "execution_count": null,
      "metadata": {
        "id": "hvM2OZgrdSw7"
      },
      "outputs": [],
      "source": [
        "array_a1.resize((4,4), refcheck = False) # 나머지 비는 것을 0으로 채워넣음"
      ]
    },
    {
      "cell_type": "code",
      "source": [
        "array_a1"
      ],
      "metadata": {
        "id": "cS0JQA-ksO9k",
        "outputId": "2cf9a06c-4429-402f-dbea-55fa449810b4",
        "colab": {
          "base_uri": "https://localhost:8080/"
        }
      },
      "execution_count": null,
      "outputs": [
        {
          "output_type": "execute_result",
          "data": {
            "text/plain": [
              "array([[1, 2, 3, 4],\n",
              "       [5, 6, 7, 8],\n",
              "       [9, 0, 0, 0],\n",
              "       [0, 0, 0, 0]])"
            ]
          },
          "metadata": {},
          "execution_count": 74
        }
      ]
    },
    {
      "cell_type": "code",
      "source": [
        "array_a1 = np.arange(1,10)"
      ],
      "metadata": {
        "id": "m-BneyCgsTaV"
      },
      "execution_count": null,
      "outputs": []
    },
    {
      "cell_type": "code",
      "source": [
        "array_a1.resize((2,2), refcheck= False)"
      ],
      "metadata": {
        "id": "D-z-uAIasWft"
      },
      "execution_count": null,
      "outputs": []
    },
    {
      "cell_type": "code",
      "source": [
        "array_a1"
      ],
      "metadata": {
        "id": "XIOsAJuMsb1V",
        "outputId": "a0d25ddf-365b-497f-f751-adc18c446bd1",
        "colab": {
          "base_uri": "https://localhost:8080/"
        }
      },
      "execution_count": null,
      "outputs": [
        {
          "output_type": "execute_result",
          "data": {
            "text/plain": [
              "array([[1, 2],\n",
              "       [3, 4]])"
            ]
          },
          "metadata": {},
          "execution_count": 77
        }
      ]
    },
    {
      "cell_type": "markdown",
      "metadata": {
        "id": "6eACaiLj7XrZ"
      },
      "source": [
        "### 배열 추가"
      ]
    },
    {
      "cell_type": "code",
      "execution_count": null,
      "metadata": {
        "id": "4RS4Kb1FdSw7"
      },
      "outputs": [],
      "source": [
        "array_a1 = np.arange(1,10).reshape(3,3)"
      ]
    },
    {
      "cell_type": "code",
      "source": [
        "array_a1"
      ],
      "metadata": {
        "id": "M35HAvaus4HM",
        "outputId": "cbbf697e-3afb-47e7-8d43-4e5ee503812b",
        "colab": {
          "base_uri": "https://localhost:8080/"
        }
      },
      "execution_count": null,
      "outputs": [
        {
          "output_type": "execute_result",
          "data": {
            "text/plain": [
              "array([[1, 2, 3],\n",
              "       [4, 5, 6],\n",
              "       [7, 8, 9]])"
            ]
          },
          "metadata": {},
          "execution_count": 82
        }
      ]
    },
    {
      "cell_type": "code",
      "source": [
        "np.append(array_a1,array_a1, axis = 1) # 열의 방향으로 붙히기"
      ],
      "metadata": {
        "id": "tGpu4-Uhsqz9",
        "outputId": "ac6b0545-3602-40ef-f6ee-23661800a60d",
        "colab": {
          "base_uri": "https://localhost:8080/"
        }
      },
      "execution_count": null,
      "outputs": [
        {
          "output_type": "execute_result",
          "data": {
            "text/plain": [
              "array([[1, 2, 3, 1, 2, 3],\n",
              "       [4, 5, 6, 4, 5, 6],\n",
              "       [7, 8, 9, 7, 8, 9]])"
            ]
          },
          "metadata": {},
          "execution_count": 84
        }
      ]
    },
    {
      "cell_type": "code",
      "source": [
        "np.append(array_a1, array_a1, axis = 0) # 행의 방향으로 붙히기"
      ],
      "metadata": {
        "id": "3RkNhK3PsrAt",
        "outputId": "fca5e0e5-58d3-4018-efde-f0507db642ad",
        "colab": {
          "base_uri": "https://localhost:8080/"
        }
      },
      "execution_count": null,
      "outputs": [
        {
          "output_type": "execute_result",
          "data": {
            "text/plain": [
              "array([[1, 2, 3],\n",
              "       [4, 5, 6],\n",
              "       [7, 8, 9],\n",
              "       [1, 2, 3],\n",
              "       [4, 5, 6],\n",
              "       [7, 8, 9]])"
            ]
          },
          "metadata": {},
          "execution_count": 86
        }
      ]
    },
    {
      "cell_type": "markdown",
      "metadata": {
        "id": "mr42IRsO78LZ"
      },
      "source": [
        "### 배열 연결"
      ]
    },
    {
      "cell_type": "code",
      "execution_count": null,
      "metadata": {
        "id": "abYVwrIfdSw7",
        "outputId": "27bf9965-90fa-4f90-8787-b597acc4f635",
        "colab": {
          "base_uri": "https://localhost:8080/"
        }
      },
      "outputs": [
        {
          "output_type": "execute_result",
          "data": {
            "text/plain": [
              "array([[1, 2, 3],\n",
              "       [4, 5, 6],\n",
              "       [7, 8, 9],\n",
              "       [1, 2, 3],\n",
              "       [4, 5, 6],\n",
              "       [7, 8, 9]])"
            ]
          },
          "metadata": {},
          "execution_count": 87
        }
      ],
      "source": [
        "np.concatenate([array_a1, array_a1]) # axis = 0 이 default"
      ]
    },
    {
      "cell_type": "code",
      "source": [
        "np.hstack([array_a1,array_a1]) # 수평으로 붙혀달라."
      ],
      "metadata": {
        "id": "LAhug8VdtS48",
        "outputId": "ae3d145a-0988-4811-c17c-0e0d69254ef9",
        "colab": {
          "base_uri": "https://localhost:8080/"
        }
      },
      "execution_count": null,
      "outputs": [
        {
          "output_type": "execute_result",
          "data": {
            "text/plain": [
              "array([[1, 2, 3, 1, 2, 3],\n",
              "       [4, 5, 6, 4, 5, 6],\n",
              "       [7, 8, 9, 7, 8, 9]])"
            ]
          },
          "metadata": {},
          "execution_count": 88
        }
      ]
    },
    {
      "cell_type": "code",
      "source": [
        "np.vstack([array_a1,array_a1]) # 수직으로 붙혀달라"
      ],
      "metadata": {
        "id": "DQiYRl0LtTYd",
        "outputId": "661d0656-a74e-482d-b356-8031c27423cf",
        "colab": {
          "base_uri": "https://localhost:8080/"
        }
      },
      "execution_count": null,
      "outputs": [
        {
          "output_type": "execute_result",
          "data": {
            "text/plain": [
              "array([[1, 2, 3],\n",
              "       [4, 5, 6],\n",
              "       [7, 8, 9],\n",
              "       [1, 2, 3],\n",
              "       [4, 5, 6],\n",
              "       [7, 8, 9]])"
            ]
          },
          "metadata": {},
          "execution_count": 89
        }
      ]
    },
    {
      "cell_type": "code",
      "source": [
        "np.stack([array_a1,array_a1]) # 차원을 증가시켜 뒤로 붙혀달라."
      ],
      "metadata": {
        "id": "lNV2fli8tTkN",
        "outputId": "673df12b-82a1-4ebf-c494-c5f0b91a8b63",
        "colab": {
          "base_uri": "https://localhost:8080/"
        }
      },
      "execution_count": null,
      "outputs": [
        {
          "output_type": "execute_result",
          "data": {
            "text/plain": [
              "array([[[1, 2, 3],\n",
              "        [4, 5, 6],\n",
              "        [7, 8, 9]],\n",
              "\n",
              "       [[1, 2, 3],\n",
              "        [4, 5, 6],\n",
              "        [7, 8, 9]]])"
            ]
          },
          "metadata": {},
          "execution_count": 90
        }
      ]
    },
    {
      "cell_type": "markdown",
      "metadata": {
        "id": "e0dJgYiR9PtK"
      },
      "source": [
        "### 배열 분할"
      ]
    },
    {
      "cell_type": "code",
      "execution_count": null,
      "metadata": {
        "id": "xDFDW6vQdSw-"
      },
      "outputs": [],
      "source": [
        "array_va1 = np.vstack([array_a1,array_a1])"
      ]
    },
    {
      "cell_type": "code",
      "execution_count": null,
      "metadata": {
        "id": "8YO6nLSTdSw-",
        "outputId": "f20506f0-9afe-4a42-8c1f-644fa00cbd17",
        "colab": {
          "base_uri": "https://localhost:8080/"
        }
      },
      "outputs": [
        {
          "output_type": "execute_result",
          "data": {
            "text/plain": [
              "[array([[1, 2, 3],\n",
              "        [4, 5, 6],\n",
              "        [7, 8, 9]]),\n",
              " array([[1, 2, 3],\n",
              "        [4, 5, 6],\n",
              "        [7, 8, 9]])]"
            ]
          },
          "metadata": {},
          "execution_count": 93
        }
      ],
      "source": [
        "np.split(array_va1,[3])"
      ]
    },
    {
      "cell_type": "code",
      "source": [
        "np.split(array_va1,[1], axis = 1) # 1 앞까지 자름,"
      ],
      "metadata": {
        "id": "RaXI0VmTuG0V",
        "outputId": "7bd75d97-6673-4568-a5a5-03959ab8ddaa",
        "colab": {
          "base_uri": "https://localhost:8080/"
        }
      },
      "execution_count": null,
      "outputs": [
        {
          "output_type": "execute_result",
          "data": {
            "text/plain": [
              "[array([[1],\n",
              "        [4],\n",
              "        [7],\n",
              "        [1],\n",
              "        [4],\n",
              "        [7]]),\n",
              " array([[2, 3],\n",
              "        [5, 6],\n",
              "        [8, 9],\n",
              "        [2, 3],\n",
              "        [5, 6],\n",
              "        [8, 9]])]"
            ]
          },
          "metadata": {},
          "execution_count": 95
        }
      ]
    },
    {
      "cell_type": "markdown",
      "metadata": {
        "id": "BwLZ5Kbs-BdL"
      },
      "source": [
        "## 배열 연산  !!중요!!"
      ]
    },
    {
      "cell_type": "markdown",
      "metadata": {
        "id": "wIh2nsuO-HdD"
      },
      "source": [
        "### 브로드캐스팅(Braodcasting) (자동 채우기)\n",
        "\n",
        "\n",
        "<figure>\n",
        "    <img src=\"http://www.astroml.org/_images/fig_broadcast_visual_1.png\">\n",
        "</figure>"
      ]
    },
    {
      "cell_type": "code",
      "execution_count": null,
      "metadata": {
        "id": "K53__JmNdSw_",
        "outputId": "af26a2e1-e2ce-4dd8-ad4f-0b15a7bc6481",
        "colab": {
          "base_uri": "https://localhost:8080/"
        }
      },
      "outputs": [
        {
          "output_type": "execute_result",
          "data": {
            "text/plain": [
              "array([ 0, 10, 20])"
            ]
          },
          "metadata": {},
          "execution_count": 97
        }
      ],
      "source": [
        "np.arange(3) * 10"
      ]
    },
    {
      "cell_type": "code",
      "source": [],
      "metadata": {
        "id": "Vfq_i4GVu9QV"
      },
      "execution_count": null,
      "outputs": []
    },
    {
      "cell_type": "markdown",
      "metadata": {
        "id": "kwPurN4y_VlT"
      },
      "source": [
        "### 산술연산\n",
        "\n",
        "|Operation|Definition|Descrption|\n",
        "|--|--|--|\n",
        "|`+`|`np.add`|덧셈|\n",
        "|`-`|`np.subtract`|뺄셈|\n",
        "|`-`|`np.negative`|단향 음수|\n",
        "|`*`|`np.multiply`|곱셈|\n",
        "|`/`|`np.divide`|나눗셈|\n",
        "|`//`|`np.floor_divide`|나눗셈 내림|\n",
        "|`**`|`np.power`|지수 연산|\n",
        "|`%`|`np.mod`|나머지 연산|"
      ]
    },
    {
      "cell_type": "code",
      "execution_count": null,
      "metadata": {
        "id": "HCrFgKs5dSw_"
      },
      "outputs": [],
      "source": []
    },
    {
      "cell_type": "markdown",
      "metadata": {
        "id": "oVq6eBJVBB0Y"
      },
      "source": [
        "#### 절대값 (Absolute)"
      ]
    },
    {
      "cell_type": "code",
      "execution_count": null,
      "metadata": {
        "id": "brhQDVFbdSw_",
        "outputId": "4561a081-7166-44ee-f0d4-d8d35f91c33f",
        "colab": {
          "base_uri": "https://localhost:8080/"
        }
      },
      "outputs": [
        {
          "output_type": "execute_result",
          "data": {
            "text/plain": [
              "array([85, 69, 88, 58, 55, 64, 73, 54, 53, 75])"
            ]
          },
          "metadata": {},
          "execution_count": 99
        }
      ],
      "source": [
        "a = np.random.randint(-100,-50, 10) # (범위, 개수)\n",
        "np.abs(a)"
      ]
    },
    {
      "cell_type": "markdown",
      "metadata": {
        "id": "QPXjt8DyBeMC"
      },
      "source": [
        "#### 제곱 / 제곱근 (Square / Sqaure root)"
      ]
    },
    {
      "cell_type": "code",
      "execution_count": null,
      "metadata": {
        "id": "qQZu5-EBdSw_",
        "outputId": "cfdcfd23-4325-4c84-ee7c-bb0527c356b8",
        "colab": {
          "base_uri": "https://localhost:8080/"
        }
      },
      "outputs": [
        {
          "output_type": "execute_result",
          "data": {
            "text/plain": [
              "array([ 1,  4,  9, 16, 25, 36, 49, 64, 81])"
            ]
          },
          "metadata": {},
          "execution_count": 101
        }
      ],
      "source": [
        "a = np.arange(1,10)\n",
        "np.square(a) # 제곱"
      ]
    },
    {
      "cell_type": "code",
      "source": [
        "np.sqrt(a) # 제곱근"
      ],
      "metadata": {
        "id": "o62BTLfkviNN",
        "outputId": "51a35240-ca40-467c-e08f-d58c3cc66361",
        "colab": {
          "base_uri": "https://localhost:8080/"
        }
      },
      "execution_count": null,
      "outputs": [
        {
          "output_type": "execute_result",
          "data": {
            "text/plain": [
              "array([1.        , 1.41421356, 1.73205081, 2.        , 2.23606798,\n",
              "       2.44948974, 2.64575131, 2.82842712, 3.        ])"
            ]
          },
          "metadata": {},
          "execution_count": 102
        }
      ]
    },
    {
      "cell_type": "markdown",
      "metadata": {
        "id": "fP3kC4zdB8Fi"
      },
      "source": [
        "#### 지수 / 로그 (Exponetial / Log)"
      ]
    },
    {
      "cell_type": "code",
      "execution_count": null,
      "metadata": {
        "id": "UXaWw8YvdSw_",
        "outputId": "f200409d-fd9b-451f-e8ef-eba6afdc9756",
        "colab": {
          "base_uri": "https://localhost:8080/"
        }
      },
      "outputs": [
        {
          "output_type": "execute_result",
          "data": {
            "text/plain": [
              "array([2.71828183e+00, 7.38905610e+00, 2.00855369e+01, 5.45981500e+01,\n",
              "       1.48413159e+02, 4.03428793e+02, 1.09663316e+03, 2.98095799e+03,\n",
              "       8.10308393e+03])"
            ]
          },
          "metadata": {},
          "execution_count": 103
        }
      ],
      "source": [
        "np.exp(a)"
      ]
    },
    {
      "cell_type": "code",
      "execution_count": null,
      "metadata": {
        "id": "yfaL_VDKdSw_",
        "outputId": "88b94f41-4ed3-4e57-c26e-a40bd0409330",
        "colab": {
          "base_uri": "https://localhost:8080/"
        }
      },
      "outputs": [
        {
          "output_type": "execute_result",
          "data": {
            "text/plain": [
              "array([0.        , 0.69314718, 1.09861229, 1.38629436, 1.60943791,\n",
              "       1.79175947, 1.94591015, 2.07944154, 2.19722458])"
            ]
          },
          "metadata": {},
          "execution_count": 104
        }
      ],
      "source": [
        "np.log(a) # 자연로그"
      ]
    },
    {
      "cell_type": "code",
      "source": [
        "np.log2(a) # 밑이 2인 로그"
      ],
      "metadata": {
        "id": "0-49SmP7vssT",
        "outputId": "2a2fee58-faf8-42c8-bd37-73ab0585615f",
        "colab": {
          "base_uri": "https://localhost:8080/"
        }
      },
      "execution_count": null,
      "outputs": [
        {
          "output_type": "execute_result",
          "data": {
            "text/plain": [
              "array([0.        , 1.        , 1.5849625 , 2.        , 2.32192809,\n",
              "       2.5849625 , 2.80735492, 3.        , 3.169925  ])"
            ]
          },
          "metadata": {},
          "execution_count": 105
        }
      ]
    },
    {
      "cell_type": "markdown",
      "metadata": {
        "id": "j6v_rozkJFKU"
      },
      "source": [
        "### 비교연산"
      ]
    },
    {
      "cell_type": "code",
      "execution_count": null,
      "metadata": {
        "id": "m3vpUuCDdSw_",
        "outputId": "a3193e71-4e1f-42de-e503-dedf3932ae43",
        "colab": {
          "base_uri": "https://localhost:8080/"
        }
      },
      "outputs": [
        {
          "output_type": "execute_result",
          "data": {
            "text/plain": [
              "array([False, False, False, False,  True,  True,  True,  True,  True])"
            ]
          },
          "metadata": {},
          "execution_count": 107
        }
      ],
      "source": [
        "np.arange(1,10) >= 5 # 각각의 요소에서 다 물어보고, 결과는 bool로 나옴"
      ]
    },
    {
      "cell_type": "code",
      "source": [
        "np.arange(1,10) >= np.random.randint(1,10,9) # 비교 연산도 broadcasting 적용가능"
      ],
      "metadata": {
        "id": "y6pr4D5Iv5wW",
        "outputId": "642a4c7f-10c4-46ce-c4ab-4290ecc4f739",
        "colab": {
          "base_uri": "https://localhost:8080/"
        }
      },
      "execution_count": null,
      "outputs": [
        {
          "output_type": "execute_result",
          "data": {
            "text/plain": [
              "array([False, False, False, False, False, False,  True,  True,  True])"
            ]
          },
          "metadata": {},
          "execution_count": 110
        }
      ]
    },
    {
      "cell_type": "code",
      "source": [],
      "metadata": {
        "id": "9U-jVn_Wv6Ue"
      },
      "execution_count": null,
      "outputs": []
    },
    {
      "cell_type": "markdown",
      "metadata": {
        "id": "T-gaI3KyLkfc"
      },
      "source": [
        "#### 불리언 연산"
      ]
    },
    {
      "cell_type": "code",
      "execution_count": null,
      "metadata": {
        "id": "2E4CtR-hdSw_"
      },
      "outputs": [],
      "source": [
        "a1 = np.array([0,1,1,0],dtype = bool)\n",
        "a2 = np.array([0,0,1,0], dtype = bool)"
      ]
    },
    {
      "cell_type": "code",
      "source": [
        "a1 & a2 # and"
      ],
      "metadata": {
        "id": "aph-xwlZwLaF",
        "outputId": "314899ee-7ac2-4627-9129-5ef6fa5d7a96",
        "colab": {
          "base_uri": "https://localhost:8080/"
        }
      },
      "execution_count": null,
      "outputs": [
        {
          "output_type": "execute_result",
          "data": {
            "text/plain": [
              "array([False, False,  True, False])"
            ]
          },
          "metadata": {},
          "execution_count": 114
        }
      ]
    },
    {
      "cell_type": "code",
      "source": [
        "a1 | a2 # shift + 원화"
      ],
      "metadata": {
        "id": "PwIja6JLwbmo",
        "outputId": "c10c5712-2b90-404a-fcd1-526058a505e5",
        "colab": {
          "base_uri": "https://localhost:8080/"
        }
      },
      "execution_count": null,
      "outputs": [
        {
          "output_type": "execute_result",
          "data": {
            "text/plain": [
              "array([False,  True,  True, False])"
            ]
          },
          "metadata": {},
          "execution_count": 115
        }
      ]
    },
    {
      "cell_type": "code",
      "source": [
        "~a1# not"
      ],
      "metadata": {
        "id": "lHzUDCBGwRbE",
        "outputId": "a110cf83-5930-4539-cee8-95bccb8f53e2",
        "colab": {
          "base_uri": "https://localhost:8080/"
        }
      },
      "execution_count": null,
      "outputs": [
        {
          "output_type": "execute_result",
          "data": {
            "text/plain": [
              "array([ True, False, False,  True])"
            ]
          },
          "metadata": {},
          "execution_count": 116
        }
      ]
    },
    {
      "cell_type": "code",
      "source": [],
      "metadata": {
        "id": "objqCTfCwRv8"
      },
      "execution_count": null,
      "outputs": []
    }
  ],
  "metadata": {
    "colab": {
      "collapsed_sections": [
        "C9IATv7kHU0T",
        "-nFeBEw6HZQ6",
        "7BUKF27mMSmX",
        "BwLZ5Kbs-BdL"
      ],
      "provenance": [],
      "include_colab_link": true
    },
    "kernelspec": {
      "display_name": "Python 3 (ipykernel)",
      "language": "python",
      "name": "python3"
    },
    "language_info": {
      "codemirror_mode": {
        "name": "ipython",
        "version": 3
      },
      "file_extension": ".py",
      "mimetype": "text/x-python",
      "name": "python",
      "nbconvert_exporter": "python",
      "pygments_lexer": "ipython3",
      "version": "3.9.12"
    }
  },
  "nbformat": 4,
  "nbformat_minor": 0
}